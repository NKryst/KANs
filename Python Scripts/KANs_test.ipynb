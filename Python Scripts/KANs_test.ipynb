{
 "cells": [
  {
   "cell_type": "code",
   "execution_count": 1,
   "metadata": {},
   "outputs": [],
   "source": [
    "import torch\n",
    "import torch.nn as nn\n",
    "import torch.nn.functional as F\n",
    "\n",
    "class KANLayer(nn.Module):\n",
    "    def __init__(self, input_dim, output_dim, grid_size=10):\n",
    "        super(KANLayer, self).__init__()\n",
    "        self.input_dim = input_dim\n",
    "        self.output_dim = output_dim\n",
    "        self.grid_size = grid_size\n",
    "\n",
    "        # Learnable spline parameters for each input-output pair\n",
    "        self.spline_weights = nn.Parameter(\n",
    "            torch.randn(output_dim, input_dim, grid_size)\n",
    "        )\n",
    "        self.grid_points = nn.Parameter(\n",
    "            torch.linspace(0, 1, grid_size).unsqueeze(0).expand(output_dim, input_dim, -1)\n",
    "        )\n",
    "\n",
    "    def forward(self, x):\n",
    "        # Apply spline activation on each input-output connection\n",
    "        batch_size = x.size(0)\n",
    "        outputs = []\n",
    "        for i in range(self.output_dim):\n",
    "            spline_output = torch.zeros(batch_size).to(x.device)\n",
    "            for j in range(self.input_dim):\n",
    "                # B-spline basis interpolation\n",
    "                b_spline = F.relu(self.grid_points[i, j, :] - x[:, j].unsqueeze(1))\n",
    "                spline_output += torch.sum(self.spline_weights[i, j, :] * b_spline, dim=1)\n",
    "            outputs.append(spline_output)\n",
    "        return torch.stack(outputs, dim=1)\n"
   ]
  },
  {
   "cell_type": "code",
   "execution_count": 2,
   "metadata": {},
   "outputs": [],
   "source": [
    "class SentimentKANModel(nn.Module):\n",
    "    def __init__(self, embedding_dim, hidden_dim, output_dim, num_layers, grid_size):\n",
    "        super(SentimentKANModel, self).__init__()\n",
    "        self.kan_layers = nn.ModuleList([\n",
    "            KANLayer(embedding_dim if i == 0 else hidden_dim, hidden_dim, grid_size)\n",
    "            for i in range(num_layers)\n",
    "        ])\n",
    "        self.classifier = nn.Linear(hidden_dim, output_dim)\n",
    "\n",
    "    def forward(self, x):\n",
    "        for kan_layer in self.kan_layers:\n",
    "            x = kan_layer(x)\n",
    "        x = self.classifier(x)\n",
    "        return F.softmax(x, dim=1)\n"
   ]
  },
  {
   "cell_type": "code",
   "execution_count": null,
   "metadata": {},
   "outputs": [],
   "source": [
    "model = SentimentKANModel(embedding_dim=768, hidden_dim=256, output_dim=3, num_layers=3, grid_size=10)\n",
    "optimizer = torch.optim.Adam(model.parameters(), lr=1e-3)\n",
    "criterion = nn.CrossEntropyLoss()\n",
    "\n",
    "for epoch in range(epochs):\n",
    "    for batch in dataloader:\n",
    "        inputs, labels = batch\n",
    "        optimizer.zero_grad()\n",
    "        outputs = model(inputs)\n",
    "        loss = criterion(outputs, labels)\n",
    "        loss.backward()\n",
    "        optimizer.step()\n",
    "    print(f\"Epoch {epoch}, Loss: {loss.item()}\")\n"
   ]
  }
 ],
 "metadata": {
  "kernelspec": {
   "display_name": "base",
   "language": "python",
   "name": "python3"
  },
  "language_info": {
   "codemirror_mode": {
    "name": "ipython",
    "version": 3
   },
   "file_extension": ".py",
   "mimetype": "text/x-python",
   "name": "python",
   "nbconvert_exporter": "python",
   "pygments_lexer": "ipython3",
   "version": "3.8.18"
  }
 },
 "nbformat": 4,
 "nbformat_minor": 2
}
